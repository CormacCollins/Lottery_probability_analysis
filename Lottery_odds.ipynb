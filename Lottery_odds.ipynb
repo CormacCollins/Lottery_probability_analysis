{
 "cells": [
  {
   "cell_type": "code",
   "execution_count": 296,
   "metadata": {},
   "outputs": [
    {
     "data": {
      "text/html": [
       "\n",
       "\n",
       "\n",
       "<script>\n",
       "code_show=true; \n",
       "function code_toggle() {\n",
       " if (code_show){\n",
       " $('div.input').hide();\n",
       " } else {\n",
       " $('div.input').show();\n",
       " }\n",
       " code_show = !code_show\n",
       "} \n",
       "$( document ).ready(code_toggle);\n",
       "</script>\n",
       "<form action=\"javascript:code_toggle()\"><input type=\"submit\" value=\"Click here to toggle on/off the raw code.\"></form>\n"
      ],
      "text/plain": [
       "<IPython.core.display.HTML object>"
      ]
     },
     "execution_count": 296,
     "metadata": {},
     "output_type": "execute_result"
    }
   ],
   "source": [
    "#https://stackoverflow.com/questions/27934885/how-to-hide-code-from-cells-in-ipython-notebook-visualized-with-nbviewer\n",
    "#cool code for a button to hide code \n",
    "from IPython.display import HTML\n",
    "\n",
    "HTML('''\n",
    "\n",
    "\n",
    "<script>\n",
    "code_show=true; \n",
    "function code_toggle() {\n",
    " if (code_show){\n",
    " $('div.input').hide();\n",
    " } else {\n",
    " $('div.input').show();\n",
    " }\n",
    " code_show = !code_show\n",
    "} \n",
    "$( document ).ready(code_toggle);\n",
    "</script>\n",
    "<form action=\"javascript:code_toggle()\"><input type=\"submit\" value=\"Click here to toggle on/off the raw code.\"></form>\n",
    "''')"
   ]
  },
  {
   "cell_type": "markdown",
   "metadata": {},
   "source": [
    "#### Look at probabilities of winning the Lotto \n",
    "\n",
    "I wanted to use a few basic distributions to look at the odds of winning the lottery. \n",
    "We will find out 2 things doing this.\n",
    "\n",
    "<ul>\n",
    "    <li> Odds over time/plays of winning the lottery </li>\n",
    "    <li> Comparison of efficiency using the Binomial distribution for calculating these odds vs using the Poisson distribution </li>\n",
    "    <li> Asking a bigger question of years until a higher win probability, and some ways around this big calculation </li>\n",
    "</ul>\n",
    "\n",
    "I've just done some basic research into local numbers, for 'PowerBall' in Australia. Not caring/including about power numbers or rewards such as this.\n",
    "\n",
    "Calculation will be based off 35 available numbers (1-35), and 7 choices are available. Orden does not matter.\n"
   ]
  },
  {
   "cell_type": "code",
   "execution_count": 281,
   "metadata": {},
   "outputs": [],
   "source": [
    "import pandas as pd\n",
    "import math\n",
    "#from scipy.stats import binom\n",
    "import time\n",
    "import numpy as np\n",
    "import matplotlib.pyplot as plt\n",
    "#total possibly numbers 1-35\n",
    "n = 35\n",
    "#player chosen numbers\n",
    "k = 7\n"
   ]
  },
  {
   "cell_type": "markdown",
   "metadata": {},
   "source": [
    "To begin we can just use some basic calculation of permutations to get an idea of the likelyhood of the amount of variations of 7 number combinations that are possible (in lotto numbers will win without regarding their order, so we factor this in with the permutations formula."
   ]
  },
  {
   "cell_type": "code",
   "execution_count": 283,
   "metadata": {},
   "outputs": [
    {
     "name": "stdout",
     "output_type": "stream",
     "text": [
      "Number of possible combinations when picking 7 numbers form 35: 33891580800.0\n"
     ]
    }
   ],
   "source": [
    "#possible combinations of n choose k (Order does not matter in lottery)\n",
    "comb = math.factorial(n)/math.factorial(n-k)\n",
    "print('Number of possible combinations when picking 7 numbers form 35: {}'.format(comb))\n"
   ]
  },
  {
   "cell_type": "markdown",
   "metadata": {},
   "source": [
    "So above we see that there are 33891580800.0 possible combinations, and therefor if we picked 7 numbers, then the probability that someone elese could randomly pick those numbers from 1-35 again (As is done in the lotto draws on tv), would be 1 / 33891580800.0. As calculated below"
   ]
  },
  {
   "cell_type": "code",
   "execution_count": 285,
   "metadata": {},
   "outputs": [
    {
     "name": "stdout",
     "output_type": "stream",
     "text": [
      "Probability of picking the same combination: 2.9505852969832555e-11\n"
     ]
    }
   ],
   "source": [
    "#probability of picking an exact k set from 1 trial\n",
    "pr = 1/comb\n",
    "print('Probability of picking the same combination: {}'.format(pr))"
   ]
  },
  {
   "cell_type": "markdown",
   "metadata": {},
   "source": [
    "I won't go into the distributions too greatly, but the binomial basically works via calculating the probability of observing x successes, given n trials, and given the probability of a success. So for us that is the probability of 1 win, given 1 go, given the probability we mentioned before.\n",
    "\n",
    "The poisson distribution instead generally predicts the predicted arrival of an event given a time and probability. In this case, the probability of the arrival of 1 win over the period of 1 attempt, given our earlier proabbility. \n",
    "\n",
    "The possion is important in the long run, because it approximates the Binomial caluclation very well when n is large, and the probability is low. Which in this case it is a very low probability, and if we have more attempts then the poisson will give a better representation."
   ]
  },
  {
   "cell_type": "code",
   "execution_count": 286,
   "metadata": {},
   "outputs": [],
   "source": [
    "#Binomial distribution - probability of observing x success in n trials\n",
    "def Binom(n, x, pr):\n",
    "    comb = math.factorial(n)/math.factorial(n-x)\n",
    "    return comb*(pr**x)*(1-pr)**(n-x)"
   ]
  },
  {
   "cell_type": "code",
   "execution_count": 82,
   "metadata": {},
   "outputs": [],
   "source": [
    "#Given arrival rate of mu what is the probability of x arrivals\n",
    "# OR in terms of our example, given an expected probability of picking our correct numbers\n",
    "# what is the probability of x successes\\\n",
    "# lambda = time*rate\n",
    "def Poisson(lambd, k):\n",
    "    return (math.exp(-lambd)*(lambd**k) / math.factorial(k))"
   ]
  },
  {
   "cell_type": "markdown",
   "metadata": {},
   "source": [
    "Below I have used the binomial and poission respectively to calculate the probability of 1 win from 1 try given our earlier probability of 1 / 33891580800.0.\n",
    "\n",
    "As you can see they are close to identical."
   ]
  },
  {
   "cell_type": "code",
   "execution_count": 83,
   "metadata": {},
   "outputs": [
    {
     "data": {
      "text/plain": [
       "2.9505852969832555e-11"
      ]
     },
     "execution_count": 83,
     "metadata": {},
     "output_type": "execute_result"
    }
   ],
   "source": [
    "#probability of observing 1 success given n trials\n",
    "success_pr_binon = Binom(n = 1, x=1, pr = pr)\n",
    "success_pr_binon"
   ]
  },
  {
   "cell_type": "code",
   "execution_count": 84,
   "metadata": {},
   "outputs": [
    {
     "data": {
      "text/plain": [
       "2.950585296896196e-11"
      ]
     },
     "execution_count": 84,
     "metadata": {},
     "output_type": "execute_result"
    }
   ],
   "source": [
    "success_pr_pois = Poisson(lambd=pr, k=1)\n",
    "success_pr_pois"
   ]
  },
  {
   "cell_type": "markdown",
   "metadata": {},
   "source": [
    "We will take this a step further and imagine that we play 50 games a year over 50 years, that is we have 2500 attempts.\n",
    "\n",
    "I will also time the different distributions to see how they handle a slightly bigger calculation."
   ]
  },
  {
   "cell_type": "code",
   "execution_count": 85,
   "metadata": {},
   "outputs": [
    {
     "name": "stdout",
     "output_type": "stream",
     "text": [
      "Using binomial\n",
      "Probability of winning lottery with 50/yr over 50 years: 7.376462698553907e-08\n",
      "Calc speed: 0.0019948482513427734s\n"
     ]
    }
   ],
   "source": [
    "# Now let's calculate if we played 50 times a yr for 50 years, i.e. 2500\n",
    "# for each of the calculation methods\n",
    "# we will also start timing to compare the speed of the 2 methods\n",
    "n = 2500\n",
    "start = time.time()\n",
    "binom_pr_2500 = Binom(n, 1, pr)\n",
    "end = time.time()\n",
    "print('Using binomial')\n",
    "print('Probability of winning lottery with 50/yr over 50 years: {}'.format(binom_pr_2500))\n",
    "print('Calc speed: {}s'.format(end-start))\n"
   ]
  },
  {
   "cell_type": "code",
   "execution_count": 89,
   "metadata": {},
   "outputs": [
    {
     "name": "stdout",
     "output_type": "stream",
     "text": [
      "Using poisson\n",
      "Probability of winning lottery with 50/yr over 50 years: 7.376462698336059e-08\n",
      "Calc speed: 0.0009975433349609375s\n"
     ]
    }
   ],
   "source": [
    "start = time.time()\n",
    "lambd = pr*n\n",
    "#probability of 1 arrival given some rate over some t\n",
    "poisson_pr_2500 = Poisson(lambd, 1)\n",
    "end = time.time()\n",
    "print('Using poisson')\n",
    "print('Probability of winning lottery with 50/yr over 50 years: {}'.format(poisson_pr_2500))\n",
    "print('Calc speed: {}s'.format(float(end-start), '.10f'))"
   ]
  },
  {
   "cell_type": "markdown",
   "metadata": {},
   "source": [
    "We see that the probability is still extremely low after all that playing! And secondly we see that the poisson was a bit quicker this time by a few decimal points, still negligible in this scenario though.\n",
    "\n",
    "So next we want to know about playing even more games to look at our odds, and also about the difference in speeds for even bigger calculations.\n",
    "\n",
    "So I will create some extra functions to perform these calculations over a series of play numbers."
   ]
  },
  {
   "cell_type": "code",
   "execution_count": 91,
   "metadata": {},
   "outputs": [],
   "source": [
    "#now let's run a really long series of each over time and calc probability\n",
    "def run_prob_test_pois(pr, time_range, x):\n",
    "    new_l = list()\n",
    "    for t in time_range:\n",
    "        lambd = pr*t\n",
    "        poisson_pr = Poisson(lambd, x)\n",
    "        new_l.append((poisson_pr, t))\n",
    "    return new_l\n",
    "\n",
    "def run_prob_test_binom(pr, time_range, x):\n",
    "    new_l = list()\n",
    "    for t in time_range:\n",
    "        binom_pr = Binom(t, x, pr)\n",
    "        new_l.append((binom_pr, t))\n",
    "    return new_l\n"
   ]
  },
  {
   "cell_type": "markdown",
   "metadata": {},
   "source": [
    "So below we will build up from 2500 plays to 1,000,000 plays. I will create 20 points ranging between these to test. We can see these printed below."
   ]
  },
  {
   "cell_type": "code",
   "execution_count": 92,
   "metadata": {},
   "outputs": [
    {
     "data": {
      "text/plain": [
       "array([   1000,   53578,  106157,  158736,  211315,  263894,  316473,\n",
       "        369052,  421631,  474210,  526789,  579368,  631947,  684526,\n",
       "        737105,  789684,  842263,  894842,  947421, 1000000])"
      ]
     },
     "execution_count": 92,
     "metadata": {},
     "output_type": "execute_result"
    }
   ],
   "source": [
    "#setup spaced range for testing\n",
    "plays_arr = np.linspace(1000, 10**6, 20)\n",
    "plays_arr = plays_arr.astype(int)\n",
    "plays_arr"
   ]
  },
  {
   "cell_type": "markdown",
   "metadata": {},
   "source": [
    "We can see the speed results calculated below:"
   ]
  },
  {
   "cell_type": "code",
   "execution_count": 54,
   "metadata": {},
   "outputs": [
    {
     "name": "stdout",
     "output_type": "stream",
     "text": [
      "Using poisson\n",
      "Calc speed: 0.008123159408569336s\n"
     ]
    }
   ],
   "source": [
    "print('Using poisson')\n",
    "start = time.time()\n",
    "probsl_pois = run_prob_test_pois(pr, plays_arr, 1)\n",
    "end = time.time()\n",
    "print('Calc speed: {}s'.format(end-start))"
   ]
  },
  {
   "cell_type": "code",
   "execution_count": 58,
   "metadata": {},
   "outputs": [
    {
     "name": "stdout",
     "output_type": "stream",
     "text": [
      "Using Binomial\n",
      "Calc speed: 251.47837114334106s\n"
     ]
    }
   ],
   "source": [
    "print('Using Binomial')\n",
    "start = time.time()\n",
    "probsl_bin = run_prob_test_binom(pr, plays_arr, 1)\n",
    "end = time.time()\n",
    "print('Calc speed: {}s'.format(end-start))"
   ]
  },
  {
   "cell_type": "markdown",
   "metadata": {},
   "source": [
    "Now we really see a massive difference between them, the Poisson calculated this in lightning speed, while I had to wait over 4 minutes for the Binomial to calculate! This is where we see the reality of the use between these 2 formulae in anything calculations that become significantly large.\n",
    "\n",
    "To make sure the Poisson is approximating accurately, I will calculate it's error (compared to the results of the binomial) quickly below, and it is very small. So we are confident in it's result. "
   ]
  },
  {
   "cell_type": "code",
   "execution_count": 287,
   "metadata": {},
   "outputs": [
    {
     "name": "stdout",
     "output_type": "stream",
     "text": [
      "Error between 2 sets of probabilities 8.536323158990811e-30\n",
      "Maximum probability after all tries: 2.950498238731678e-05\n"
     ]
    }
   ],
   "source": [
    "errorl = list()\n",
    "ml = list()\n",
    "for i in range(0, len(probsl_pois)):\n",
    "    #sqrd error\n",
    "    ml.append(probsl_pois[i][0])\n",
    "    errorl.append((probsl_pois[i][0] - probsl_bin[i][0])**2)\n",
    "    \n",
    "sum_sq_error = sum(errorl)\n",
    "print('Error between 2 sets of probabilities {}'.format(sum_sq_error))\n",
    "print('Maximum probability after all tries: {}'.format(max(ml)))"
   ]
  },
  {
   "cell_type": "markdown",
   "metadata": {},
   "source": [
    "Next I will plot the proababilities of 1 win against the amount of plays:"
   ]
  },
  {
   "cell_type": "code",
   "execution_count": 76,
   "metadata": {},
   "outputs": [],
   "source": [
    "time_p = [i[1] for i in probsl_pois]\n",
    "pr_p = [i[0] for i in probsl_pois]\n",
    "df_p = pd.DataFrame({'time':time_p, \n",
    "                      'prob': pr_p})"
   ]
  },
  {
   "cell_type": "code",
   "execution_count": 77,
   "metadata": {},
   "outputs": [
    {
     "data": {
      "image/png": "[encoded data removed]",
      "text/plain": [
       "<Figure size 432x288 with 1 Axes>"
      ]
     },
     "metadata": {
      "needs_background": "light"
     },
     "output_type": "display_data"
    }
   ],
   "source": [
    "import seaborn as sns\n",
    "sns.lineplot(x = 'time', y = 'prob',  data=df_p, label='Poisson')\n",
    "plt.legend(prop={'size': 12})\n",
    "plt.xlabel('time')\n",
    "plt.ylabel('P(x)')\n",
    "plt.title('Probability of 1 lotto win over lottery plays (time)');"
   ]
  },
  {
   "cell_type": "markdown",
   "metadata": {},
   "source": [
    "So what we can is that even after playing the lottery 1 million times, we still only have a 0.000030 chance of winning 1 game. This is always a good lesson for anyone attempting to beat games of pure chance, it will always be stacked against you. \n",
    "\n",
    "Interestingly enough if someone paid on average 10 dollars per ticket, they would provide the lottery company with a nice 10,000,000 dollars at the end of this gambling and still only end up with 0.000030 chance of winnning :|"
   ]
  },
  {
   "cell_type": "markdown",
   "metadata": {},
   "source": [
    "In a final experiment, let's see how many games we would need to play to reach a 50% chance of winning (We will find out that this isn't possible with this low probability and the Poisson distribution directly). And given 100 plays a year, how many years we would have to play for."
   ]
  },
  {
   "cell_type": "markdown",
   "metadata": {},
   "source": [
    "Having tried to use our usual Poisson method, I soon ran into floating point size issues, so first, to get a grasp of the right lambda values to use, I calculated the log probability still using Poisson (log to get the values much lower).\n",
    "\n",
    "And plotting them below we see the function approach a 50% change = ln(0.5) = -1. The x-axis is in terms of the stepsize, so x1 = 100000 plays."
   ]
  },
  {
   "cell_type": "code",
   "execution_count": 288,
   "metadata": {},
   "outputs": [],
   "source": [
    "step_size = 10000\n",
    "l = list()\n",
    "i = step_size\n",
    "log_pr_goal = -1.0\n",
    "curr_log_prob = -10\n",
    "while log_pr_goal > curr_log_prob:\n",
    "    lambd = pr*i\n",
    "    curr_log_prob = -lambd + math.log2(lambd)\n",
    "    i += step_size\n",
    "    l.append(curr_log_prob)\n"
   ]
  },
  {
   "cell_type": "code",
   "execution_count": 289,
   "metadata": {},
   "outputs": [
    {
     "data": {
      "text/plain": [
       "<matplotlib.axes._subplots.AxesSubplot at 0x270c8109508>"
      ]
     },
     "execution_count": 289,
     "metadata": {},
     "output_type": "execute_result"
    },
    {
     "data": {
      "image/png": "[encoded data removed]",
      "text/plain": [
       "<Figure size 432x288 with 1 Axes>"
      ]
     },
     "metadata": {
      "needs_background": "light"
     },
     "output_type": "display_data"
    }
   ],
   "source": [
    "s = pd.Series(l)\n",
    "s.plot.line()"
   ]
  },
  {
   "cell_type": "code",
   "execution_count": 290,
   "metadata": {},
   "outputs": [
    {
     "data": {
      "text/plain": [
       "[-1.0000002716918432,\n",
       " -1.000000141070697,\n",
       " -1.0000000104496762,\n",
       " -0.9999998798287811]"
      ]
     },
     "execution_count": 290,
     "metadata": {},
     "output_type": "execute_result"
    }
   ],
   "source": [
    "l[len(l)-4:len(l)]"
   ]
  },
  {
   "cell_type": "code",
   "execution_count": 291,
   "metadata": {},
   "outputs": [
    {
     "data": {
      "text/plain": [
       "0.3678794373272213"
      ]
     },
     "execution_count": 291,
     "metadata": {},
     "output_type": "execute_result"
    }
   ],
   "source": [
    "math.exp(l[len(l)-2])"
   ]
  },
  {
   "cell_type": "markdown",
   "metadata": {},
   "source": [
    "Looking through the values, I find that at these values of ln(P(x)) we can't even get the precision to get a 50% probability of winning a game, but instead getting our (n-1)th value and reconverting it to probability, we get the 0.367 probability of winning a game."
   ]
  },
  {
   "cell_type": "code",
   "execution_count": 293,
   "metadata": {},
   "outputs": [
    {
     "name": "stdout",
     "output_type": "stream",
     "text": [
      "Plays to each probability for 1 win = 0.3678794373272213 were: 33891600000 plays\n",
      "Playing 100 times/yr this would take 338916000.0 years\n",
      "If paying $10/play, this would cost: $338916000000 (~338 billion dollars)\n"
     ]
    }
   ],
   "source": [
    "print('Plays to each probability for 1 win = {} were: {} plays'.format(math.exp(l[len(l)-2]),i))\n",
    "print('Playing 100 times/yr this would take {} years'.format(i/100))\n",
    "print('If paying $10/play, this would cost: ${} (~338 billion dollars)'.format(i*10))\n"
   ]
  },
  {
   "cell_type": "markdown",
   "metadata": {},
   "source": [
    "If we want we can use this new rate in Poisson to get a more precise estimate."
   ]
  },
  {
   "cell_type": "code",
   "execution_count": 294,
   "metadata": {},
   "outputs": [
    {
     "data": {
      "text/plain": [
       "0.36787944117138327"
      ]
     },
     "execution_count": 294,
     "metadata": {},
     "output_type": "execute_result"
    }
   ],
   "source": [
    "res = Poisson(pr*i, 1)\n",
    "res\n"
   ]
  },
  {
   "cell_type": "markdown",
   "metadata": {},
   "source": [
    "Interestingly enough i = number of possible combnations for 7 nums, that is the number of possible combinations for the 7 we chose. This makes sense, if our probability of winning a game is 1/n, then if we play n times, our required trials is reached and we would have expected to win, however because of the behaviour of the Poisson function we don't reach this.\n",
    "\n",
    "Interestingly also, this value is a property of the poission distribution. That if you have some probability 1/n, and you run that trial n times. Your probability approaches 1/e = 0.367... And we can't actually get further from this value, because as soon as we increase our trial numbers, we are approaching a probability that is moving away from 1 event but now towards success for 2 events. \n",
    "\n",
    "Changing the value for x in the Poisson params we can see how our odds look now for 2 events."
   ]
  },
  {
   "cell_type": "code",
   "execution_count": 295,
   "metadata": {},
   "outputs": [
    {
     "data": {
      "text/plain": [
       "0.18393982478981996"
      ]
     },
     "execution_count": 295,
     "metadata": {},
     "output_type": "execute_result"
    }
   ],
   "source": [
    "res = Poisson(pr*i, 2)\n",
    "res"
   ]
  },
  {
   "cell_type": "markdown",
   "metadata": {},
   "source": [
    "I'm unsure why the Poisson distribution acts this way. This would take soem further research and intuition of this problem.\n",
    "\n",
    "But anyway we discovered what we set out to do, looking at these distributions and also our likelihood of winning a lottery game. Not very high!\n",
    "\n",
    "\n",
    "\n",
    "\n",
    "\n",
    "\n",
    "\n",
    "\n",
    "\n",
    "\n",
    "\n",
    "\n"
   ]
  }
 ],
 "metadata": {
  "kernelspec": {
   "display_name": "Python 3",
   "language": "python",
   "name": "python3"
  },
  "language_info": {
   "codemirror_mode": {
    "name": "ipython",
    "version": 3
   },
   "file_extension": ".py",
   "mimetype": "text/x-python",
   "name": "python",
   "nbconvert_exporter": "python",
   "pygments_lexer": "ipython3",
   "version": "3.7.4"
  }
 },
 "nbformat": 4,
 "nbformat_minor": 4
}
